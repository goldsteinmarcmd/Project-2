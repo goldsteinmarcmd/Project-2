{
 "cells": [
  {
   "cell_type": "code",
   "execution_count": 1,
   "metadata": {
    "collapsed": true
   },
   "outputs": [],
   "source": [
    "import pandas as pd"
   ]
  },
  {
   "cell_type": "code",
   "execution_count": 4,
   "metadata": {},
   "outputs": [
    {
     "data": {
      "text/html": [
       "<div>\n",
       "<style>\n",
       "    .dataframe thead tr:only-child th {\n",
       "        text-align: right;\n",
       "    }\n",
       "\n",
       "    .dataframe thead th {\n",
       "        text-align: left;\n",
       "    }\n",
       "\n",
       "    .dataframe tbody tr th {\n",
       "        vertical-align: top;\n",
       "    }\n",
       "</style>\n",
       "<table border=\"1\" class=\"dataframe\">\n",
       "  <thead>\n",
       "    <tr style=\"text-align: right;\">\n",
       "      <th></th>\n",
       "      <th>Unnamed: 0</th>\n",
       "      <th>0</th>\n",
       "      <th>1</th>\n",
       "      <th>2</th>\n",
       "      <th>3</th>\n",
       "      <th>4</th>\n",
       "      <th>5</th>\n",
       "      <th>6</th>\n",
       "      <th>7</th>\n",
       "    </tr>\n",
       "  </thead>\n",
       "  <tbody>\n",
       "    <tr>\n",
       "      <th>0</th>\n",
       "      <td>0</td>\n",
       "      <td>Rank</td>\n",
       "      <td>County-equivalent</td>\n",
       "      <td>State</td>\n",
       "      <td>Per capita income</td>\n",
       "      <td>Median household income</td>\n",
       "      <td>Median family income</td>\n",
       "      <td>Population</td>\n",
       "      <td>Number of households</td>\n",
       "    </tr>\n",
       "    <tr>\n",
       "      <th>1</th>\n",
       "      <td>1</td>\n",
       "      <td>1</td>\n",
       "      <td>New York County</td>\n",
       "      <td>New York</td>\n",
       "      <td>$62,498</td>\n",
       "      <td>$69,659</td>\n",
       "      <td>$84,627</td>\n",
       "      <td>1605272</td>\n",
       "      <td>736192</td>\n",
       "    </tr>\n",
       "    <tr>\n",
       "      <th>2</th>\n",
       "      <td>2</td>\n",
       "      <td>2</td>\n",
       "      <td>Arlington</td>\n",
       "      <td>Virginia</td>\n",
       "      <td>$62,018</td>\n",
       "      <td>$103,208</td>\n",
       "      <td>$139,244</td>\n",
       "      <td>214861</td>\n",
       "      <td>94454</td>\n",
       "    </tr>\n",
       "    <tr>\n",
       "      <th>3</th>\n",
       "      <td>3</td>\n",
       "      <td>3</td>\n",
       "      <td>Falls Church City</td>\n",
       "      <td>Virginia</td>\n",
       "      <td>$59,088</td>\n",
       "      <td>$120,000</td>\n",
       "      <td>$152,857</td>\n",
       "      <td>12731</td>\n",
       "      <td>5020</td>\n",
       "    </tr>\n",
       "    <tr>\n",
       "      <th>4</th>\n",
       "      <td>4</td>\n",
       "      <td>4</td>\n",
       "      <td>Marin</td>\n",
       "      <td>California</td>\n",
       "      <td>$56,791</td>\n",
       "      <td>$90,839</td>\n",
       "      <td>$117,357</td>\n",
       "      <td>254643</td>\n",
       "      <td>102912</td>\n",
       "    </tr>\n",
       "  </tbody>\n",
       "</table>\n",
       "</div>"
      ],
      "text/plain": [
       "   Unnamed: 0     0                  1           2                  3  \\\n",
       "0           0  Rank  County-equivalent       State  Per capita income   \n",
       "1           1     1    New York County    New York            $62,498   \n",
       "2           2     2          Arlington    Virginia            $62,018   \n",
       "3           3     3  Falls Church City    Virginia            $59,088   \n",
       "4           4     4              Marin  California            $56,791   \n",
       "\n",
       "                         4                     5           6  \\\n",
       "0  Median household income  Median family income  Population   \n",
       "1                  $69,659               $84,627     1605272   \n",
       "2                 $103,208              $139,244      214861   \n",
       "3                 $120,000              $152,857       12731   \n",
       "4                  $90,839              $117,357      254643   \n",
       "\n",
       "                      7  \n",
       "0  Number of households  \n",
       "1                736192  \n",
       "2                 94454  \n",
       "3                  5020  \n",
       "4                102912  "
      ]
     },
     "execution_count": 4,
     "metadata": {},
     "output_type": "execute_result"
    }
   ],
   "source": [
    "# Mapping lets you format an entire DataFrame\n",
    "file = \"medianhhi\"\n",
    "file_df = pd.read_csv(file)\n",
    "file_df.head()"
   ]
  },
  {
   "cell_type": "code",
   "execution_count": 5,
   "metadata": {},
   "outputs": [
    {
     "ename": "SyntaxError",
     "evalue": "unexpected EOF while parsing (<ipython-input-5-58277cc05590>, line 2)",
     "output_type": "error",
     "traceback": [
      "\u001b[0;36m  File \u001b[0;32m\"<ipython-input-5-58277cc05590>\"\u001b[0;36m, line \u001b[0;32m2\u001b[0m\n\u001b[0;31m    \u001b[0m\n\u001b[0m    ^\u001b[0m\n\u001b[0;31mSyntaxError\u001b[0m\u001b[0;31m:\u001b[0m unexpected EOF while parsing\n"
     ]
    }
   ],
   "source": [
    "for name in file_df:\n",
    "    "
   ]
  },
  {
   "cell_type": "code",
   "execution_count": null,
   "metadata": {
    "collapsed": true
   },
   "outputs": [],
   "source": [
    "pd.concat([pd.file_df([i], columns=['2']) for i in range(5)],\n",
    "...           ignore_index=True)\n",
    "   A\n",
    "0  0\n",
    "1  1\n",
    "2  2\n",
    "3  3\n",
    "4  4"
   ]
  },
  {
   "cell_type": "code",
   "execution_count": 18,
   "metadata": {},
   "outputs": [],
   "source": [
    "import json\n",
    "with open('mapjson.json') as data_file:    \n",
    "    data = json.load(data_file)"
   ]
  },
  {
   "cell_type": "code",
   "execution_count": 19,
   "metadata": {},
   "outputs": [
    {
     "name": "stderr",
     "output_type": "stream",
     "text": [
      "IOPub data rate exceeded.\n",
      "The notebook server will temporarily stop sending output\n",
      "to the client in order to avoid crashing it.\n",
      "To change this limit, set the config variable\n",
      "`--NotebookApp.iopub_data_rate_limit`.\n"
     ]
    }
   ],
   "source": [
    "data"
   ]
  },
  {
   "cell_type": "code",
   "execution_count": null,
   "metadata": {
    "collapsed": true
   },
   "outputs": [],
   "source": []
  }
 ],
 "metadata": {
  "kernelspec": {
   "display_name": "Python 3",
   "language": "python",
   "name": "python3"
  },
  "language_info": {
   "codemirror_mode": {
    "name": "ipython",
    "version": 3
   },
   "file_extension": ".py",
   "mimetype": "text/x-python",
   "name": "python",
   "nbconvert_exporter": "python",
   "pygments_lexer": "ipython3",
   "version": "3.6.3"
  }
 },
 "nbformat": 4,
 "nbformat_minor": 2
}
