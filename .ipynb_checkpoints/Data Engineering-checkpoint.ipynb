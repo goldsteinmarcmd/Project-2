{
 "cells": [
  {
   "cell_type": "code",
   "execution_count": 16,
   "metadata": {
    "collapsed": true
   },
   "outputs": [],
   "source": [
    "import pandas as pd\n",
    "import numpy as np\n",
    "import os"
   ]
  },
  {
   "cell_type": "code",
   "execution_count": 17,
   "metadata": {},
   "outputs": [],
   "source": [
    "AllTop = pd.DataFrame(pd.read_csv(\"2016_AllCauses.csv\"))\n",
    "Alz = pd.DataFrame(pd.read_csv(\"2016_Alzheimers.csv\"))\n",
    "Cancer = pd.DataFrame(pd.read_csv(\"2016_Cancer.csv\"))\n",
    "CLRD = pd.DataFrame(pd.read_csv(\"2016_CLRD.csv\"))\n",
    "Diabetes = pd.DataFrame(pd.read_csv(\"2016_Diabetes.csv\"))\n",
    "DoH = pd.DataFrame(pd.read_csv(\"2016_Diseases_of_Heart.csv\"))\n",
    "Homi = pd.DataFrame(pd.read_csv(\"2016_Homicide.csv\"))\n",
    "HyperT = pd.DataFrame(pd.read_csv(\"2016_Hypertension.csv\"))\n",
    "Kidney = pd.DataFrame(pd.read_csv(\"2016_Kidney_Disease.csv\"))\n",
    "Liver = pd.DataFrame(pd.read_csv(\"2016_Liver_Disease_Cirrhosis.csv\"))\n",
    "Park = pd.DataFrame(pd.read_csv(\"2016_Parkinsons.csv\"))\n",
    "PneuFlu = pd.DataFrame(pd.read_csv(\"2016_Pneumonia_Influenza.csv\"))\n",
    "Pneumon = pd.DataFrame(pd.read_csv(\"2016_Pneumonitis.csv\"))\n",
    "Sept = pd.DataFrame(pd.read_csv(\"2016_Septicemia.csv\"))\n",
    "Stroke = pd.DataFrame(pd.read_csv(\"2016_Stroke.csv\"))\n",
    "Suicide = pd.DataFrame(pd.read_csv(\"2016_Suicide.csv\"))\n",
    "Unintentional = pd.DataFrame(pd.read_csv(\"2016_Unintentional_Injuries.csv\"))\n",
    "StateDeaths = pd.DataFrame(pd.read_csv(\"NCHS_-_Leading_Causes_of_Death__United_States.csv\"))"
   ]
  },
  {
   "cell_type": "code",
   "execution_count": 18,
   "metadata": {},
   "outputs": [],
   "source": [
    "StateDeaths2016 = StateDeaths.loc[(StateDeaths['Year'] == 2016)]"
   ]
  },
  {
   "cell_type": "code",
   "execution_count": 19,
   "metadata": {},
   "outputs": [],
   "source": [
    "AllTop[\"Category\"] = \"All Causes\"\n",
    "Alz[\"Category\"] = \"Alzheimer's disease\"\n",
    "Cancer[\"Category\"] = \"Cancer\"\n",
    "CLRD[\"Category\"] = \"CLRD\"\n",
    "Diabetes[\"Category\"] = \"Diabetes\"\n",
    "DoH[\"Category\"] = \"Diseases of Heart\"\n",
    "Homi[\"Category\"] = \"Homicide\"\n",
    "HyperT[\"Category\"] = \"Essential hypertension and hypertensive renal disease\"\n",
    "Kidney[\"Category\"] = \"Kidney Disease\"\n",
    "Liver[\"Category\"] = \"Chronic liver disease and cirrhosis\"\n",
    "Park[\"Category\"] = \"Parkinson's disease\"\n",
    "PneuFlu[\"Category\"] = \"Influenza and pneumonia\"\n",
    "Pneumon[\"Category\"] = \"Pneumonitis due to solids and liquids\"\n",
    "Sept[\"Category\"] = \"Septicemia\"\n",
    "Stroke[\"Category\"] = \"Stroke\"\n",
    "Suicide[\"Category\"] = \"Suicide\"\n",
    "Unintentional[\"Category\"] = \"Unintentional Injuries\""
   ]
  },
  {
   "cell_type": "code",
   "execution_count": 20,
   "metadata": {},
   "outputs": [],
   "source": [
    "CoD = [AllTop, Alz, Cancer, CLRD, Diabetes, DoH, Homi, HyperT, Kidney, Liver, Park, PneuFlu, Pneumon, Sept, Stroke, Suicide, Unintentional]"
   ]
  },
  {
   "cell_type": "code",
   "execution_count": 21,
   "metadata": {
    "collapsed": true
   },
   "outputs": [],
   "source": [
    "CountyDeaths_2016 = pd.concat(CoD)"
   ]
  },
  {
   "cell_type": "code",
   "execution_count": 28,
   "metadata": {},
   "outputs": [],
   "source": [
    "CountyDeaths_2016 = CountyDeaths_2016.rename(columns={\"State(Code)\":\"StateCode\"})"
   ]
  },
  {
   "cell_type": "code",
   "execution_count": 29,
   "metadata": {},
   "outputs": [
    {
     "data": {
      "text/plain": [
       "Index(['County', 'StateCode', 'Deaths', 'Population', 'Crude Rate Per 100000',\n",
       "       'Category'],\n",
       "      dtype='object')"
      ]
     },
     "execution_count": 29,
     "metadata": {},
     "output_type": "execute_result"
    }
   ],
   "source": [
    "CountyDeaths_2016.columns"
   ]
  },
  {
   "cell_type": "code",
   "execution_count": 31,
   "metadata": {},
   "outputs": [],
   "source": [
    "CountyDeaths_2016 = CountyDeaths_2016.drop(['Crude Rate Per 100000'], axis=1)"
   ]
  },
  {
   "cell_type": "code",
   "execution_count": null,
   "metadata": {
    "collapsed": true
   },
   "outputs": [],
   "source": []
  }
 ],
 "metadata": {
  "kernelspec": {
   "display_name": "Python 3",
   "language": "python",
   "name": "python3"
  },
  "language_info": {
   "codemirror_mode": {
    "name": "ipython",
    "version": 3
   },
   "file_extension": ".py",
   "mimetype": "text/x-python",
   "name": "python",
   "nbconvert_exporter": "python",
   "pygments_lexer": "ipython3",
   "version": "3.6.1"
  }
 },
 "nbformat": 4,
 "nbformat_minor": 2
}
