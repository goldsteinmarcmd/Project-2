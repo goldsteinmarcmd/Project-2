{
 "cells": [
  {
   "cell_type": "code",
   "execution_count": 8,
   "metadata": {},
   "outputs": [],
   "source": [
    "!rm US_CoD.sqlite\n",
    "\n",
    "from sqlalchemy.ext.automap import automap_base\n",
    "from sqlalchemy.orm import Session\n",
    "from sqlalchemy import create_engine, Column, Integer, BigInteger, String, Float, inspect\n",
    "from sqlalchemy.ext.declarative import declarative_base\n",
    "import datetime\n",
    "import pandas as pd\n",
    "\n",
    "Base =  declarative_base() "
   ]
  },
  {
   "cell_type": "code",
   "execution_count": 9,
   "metadata": {
    "collapsed": true
   },
   "outputs": [],
   "source": [
    "class CountyDeaths(Base):\n",
    "    __tablename__ = 'counties'\n",
    "    id = Column(Integer, primary_key=True)\n",
    "    County = Column(String)\n",
    "    StateCode = Column(String)\n",
    "    Deaths = Column(Integer)\n",
    "    Population = Column(Integer)\n",
    "    Category = Column(String)"
   ]
  },
  {
   "cell_type": "code",
   "execution_count": 10,
   "metadata": {
    "collapsed": true
   },
   "outputs": [],
   "source": [
    "class StateDeaths(Base):\n",
    "    __tablename__ = 'states'\n",
    "    id = Column(Integer, primary_key=True)\n",
    "    Year = Column(Integer)\n",
    "    CauseNameCode = Column(String)\n",
    "    CauseName = Column(String)\n",
    "    State = Column(String)\n",
    "    Deaths = Column(Integer)\n",
    "    AADR = Column(Float)"
   ]
  },
  {
   "cell_type": "code",
   "execution_count": 11,
   "metadata": {
    "collapsed": true
   },
   "outputs": [],
   "source": [
    "class Specialist(Base):\n",
    "    __tablename__ = 'specialist'\n",
    "    id = Column(Integer, primary_key=True)\n",
    "    Specialty = Column(String)\n",
    "    TotalActivePhysicians = Column(Integer)\n",
    "    PeoplePerPhysician = Column(Integer)"
   ]
  },
  {
   "cell_type": "code",
   "execution_count": 12,
   "metadata": {
    "collapsed": true
   },
   "outputs": [],
   "source": [
    "engine = create_engine('sqlite:///US_CoD.sqlite')\n",
    "Base.metadata.create_all(engine)\n",
    "session = Session(engine)"
   ]
  },
  {
   "cell_type": "code",
   "execution_count": 13,
   "metadata": {
    "collapsed": true
   },
   "outputs": [],
   "source": [
    "stdf = pd.DataFrame(pd.read_csv(\"StateDeathsClean.csv\"))\n",
    "ctdf = pd.DataFrame(pd.read_csv(\"CountyDeathsClean.csv\"))\n",
    "special = pd.DataFrame(pd.read_csv(\"Specialists.csv\"))"
   ]
  },
  {
   "cell_type": "code",
   "execution_count": 14,
   "metadata": {},
   "outputs": [],
   "source": [
    "stdf.to_sql('states', engine, if_exists=\"append\", index = False)\n",
    "ctdf.to_sql('counties', engine, if_exists=\"append\", index = False)\n",
    "special.to_sql('specialist',engine, if_exists=\"append\", index = False)"
   ]
  },
  {
   "cell_type": "code",
   "execution_count": null,
   "metadata": {
    "collapsed": true
   },
   "outputs": [],
   "source": []
  }
 ],
 "metadata": {
  "kernelspec": {
   "display_name": "Python 3",
   "language": "python",
   "name": "python3"
  },
  "language_info": {
   "codemirror_mode": {
    "name": "ipython",
    "version": 3
   },
   "file_extension": ".py",
   "mimetype": "text/x-python",
   "name": "python",
   "nbconvert_exporter": "python",
   "pygments_lexer": "ipython3",
   "version": "3.6.1"
  }
 },
 "nbformat": 4,
 "nbformat_minor": 2
}
