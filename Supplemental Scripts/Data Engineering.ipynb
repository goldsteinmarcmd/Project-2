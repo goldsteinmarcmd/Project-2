{
 "cells": [
  {
   "cell_type": "code",
   "execution_count": 2,
   "metadata": {
    "collapsed": true
   },
   "outputs": [],
   "source": [
    "import pandas as pd\n",
    "import numpy as np\n",
    "import os"
   ]
  },
  {
   "cell_type": "code",
   "execution_count": 63,
   "metadata": {
    "collapsed": true
   },
   "outputs": [],
   "source": [
    "AllTop = pd.DataFrame(pd.read_csv(\"2016_AllCauses.csv\"))\n",
    "Alz = pd.DataFrame(pd.read_csv(\"2016_Alzheimers.csv\"))\n",
    "Cancer = pd.DataFrame(pd.read_csv(\"2016_Cancer.csv\"))\n",
    "CLRD = pd.DataFrame(pd.read_csv(\"2016_CLRD.csv\"))\n",
    "Diabetes = pd.DataFrame(pd.read_csv(\"2016_Diabetes.csv\"))\n",
    "DoH = pd.DataFrame(pd.read_csv(\"2016_Diseases_of_Heart.csv\"))\n",
    "Homi = pd.DataFrame(pd.read_csv(\"2016_Homicide.csv\"))\n",
    "HyperT = pd.DataFrame(pd.read_csv(\"2016_Hypertension.csv\"))\n",
    "Kidney = pd.DataFrame(pd.read_csv(\"2016_Kidney_Disease.csv\"))\n",
    "Liver = pd.DataFrame(pd.read_csv(\"2016_Liver_Disease_Cirrhosis.csv\"))\n",
    "Park = pd.DataFrame(pd.read_csv(\"2016_Parkinsons.csv\"))\n",
    "PneuFlu = pd.DataFrame(pd.read_csv(\"2016_Pneumonia_Influenza.csv\"))\n",
    "Pneumon = pd.DataFrame(pd.read_csv(\"2016_Pneumonitis.csv\"))\n",
    "Sept = pd.DataFrame(pd.read_csv(\"2016_Septicemia.csv\"))\n",
    "Stroke = pd.DataFrame(pd.read_csv(\"2016_Stroke.csv\"))\n",
    "Suicide = pd.DataFrame(pd.read_csv(\"2016_Suicide.csv\"))\n",
    "Unintentional = pd.DataFrame(pd.read_csv(\"2016_Unintentional_Injuries.csv\"))\n",
    "StateDeaths = pd.DataFrame(pd.read_csv(\"NCHS_-_Leading_Causes_of_Death__United_States.csv\"))"
   ]
  },
  {
   "cell_type": "code",
   "execution_count": 64,
   "metadata": {
    "collapsed": true
   },
   "outputs": [],
   "source": [
    "StateDeaths = StateDeaths.loc[(StateDeaths['Year'] == 2015)]\n",
    "StateDeaths = StateDeaths.reset_index(drop=True)"
   ]
  },
  {
   "cell_type": "code",
   "execution_count": 65,
   "metadata": {
    "collapsed": true
   },
   "outputs": [],
   "source": [
    "AllTop[\"Category\"] = \"All Causes\"\n",
    "Alz[\"Category\"] = \"Alzheimer's disease\"\n",
    "Cancer[\"Category\"] = \"Cancer\"\n",
    "CLRD[\"Category\"] = \"CLRD\"\n",
    "Diabetes[\"Category\"] = \"Diabetes\"\n",
    "DoH[\"Category\"] = \"Diseases of Heart\"\n",
    "Homi[\"Category\"] = \"Homicide\"\n",
    "HyperT[\"Category\"] = \"Essential hypertension and hypertensive renal disease\"\n",
    "Kidney[\"Category\"] = \"Kidney Disease\"\n",
    "Liver[\"Category\"] = \"Chronic liver disease and cirrhosis\"\n",
    "Park[\"Category\"] = \"Parkinson's disease\"\n",
    "PneuFlu[\"Category\"] = \"Influenza and pneumonia\"\n",
    "Pneumon[\"Category\"] = \"Pneumonitis due to solids and liquids\"\n",
    "Sept[\"Category\"] = \"Septicemia\"\n",
    "Stroke[\"Category\"] = \"Stroke\"\n",
    "Suicide[\"Category\"] = \"Suicide\"\n",
    "Unintentional[\"Category\"] = \"Unintentional Injuries\""
   ]
  },
  {
   "cell_type": "code",
   "execution_count": 66,
   "metadata": {
    "collapsed": true
   },
   "outputs": [],
   "source": [
    "CoD = [AllTop, Alz, Cancer, CLRD, Diabetes, DoH, Homi, HyperT, Kidney, Liver, Park, PneuFlu, Pneumon, Sept, Stroke, Suicide, Unintentional]"
   ]
  },
  {
   "cell_type": "code",
   "execution_count": 67,
   "metadata": {
    "collapsed": true
   },
   "outputs": [],
   "source": [
    "CountyDeaths_2016 = pd.concat(CoD)"
   ]
  },
  {
   "cell_type": "code",
   "execution_count": 68,
   "metadata": {
    "collapsed": true
   },
   "outputs": [],
   "source": [
    "CountyDeaths_2016 = CountyDeaths_2016.rename(columns={\"State(Code)\":\"StateCode\"})"
   ]
  },
  {
   "cell_type": "code",
   "execution_count": 69,
   "metadata": {},
   "outputs": [
    {
     "data": {
      "text/plain": [
       "Index(['County', 'StateCode', 'Deaths', 'Population', 'Crude Rate Per 100000',\n",
       "       'Category'],\n",
       "      dtype='object')"
      ]
     },
     "execution_count": 69,
     "metadata": {},
     "output_type": "execute_result"
    }
   ],
   "source": [
    "CountyDeaths_2016.columns"
   ]
  },
  {
   "cell_type": "code",
   "execution_count": 70,
   "metadata": {
    "collapsed": true
   },
   "outputs": [],
   "source": [
    "CountyDeaths_2016 = CountyDeaths_2016.drop(['Crude Rate Per 100000'], axis=1)\n",
    "CountyDeaths_2016 = CountyDeaths_2016.reset_index(drop=True)"
   ]
  },
  {
   "cell_type": "code",
   "execution_count": 71,
   "metadata": {},
   "outputs": [
    {
     "data": {
      "text/plain": [
       "Index(['Year', '113 Cause Name', 'Cause Name', 'State', 'Deaths',\n",
       "       'Age-adjusted Death Rate'],\n",
       "      dtype='object')"
      ]
     },
     "execution_count": 71,
     "metadata": {},
     "output_type": "execute_result"
    }
   ],
   "source": [
    "StateDeaths.columns"
   ]
  },
  {
   "cell_type": "code",
   "execution_count": 72,
   "metadata": {
    "collapsed": true
   },
   "outputs": [],
   "source": [
    "StateDeaths = StateDeaths.rename(columns={\"113 Cause Name\": \"CauseNameCode\", \"Cause Name\": \"CauseName\", \"Age-adjusted Death Rate\": \"AADR\"})"
   ]
  },
  {
   "cell_type": "code",
   "execution_count": 73,
   "metadata": {},
   "outputs": [
    {
     "data": {
      "text/html": [
       "<div>\n",
       "<style>\n",
       "    .dataframe thead tr:only-child th {\n",
       "        text-align: right;\n",
       "    }\n",
       "\n",
       "    .dataframe thead th {\n",
       "        text-align: left;\n",
       "    }\n",
       "\n",
       "    .dataframe tbody tr th {\n",
       "        vertical-align: top;\n",
       "    }\n",
       "</style>\n",
       "<table border=\"1\" class=\"dataframe\">\n",
       "  <thead>\n",
       "    <tr style=\"text-align: right;\">\n",
       "      <th></th>\n",
       "      <th>Year</th>\n",
       "      <th>CauseNameCode</th>\n",
       "      <th>CauseName</th>\n",
       "      <th>State</th>\n",
       "      <th>Deaths</th>\n",
       "      <th>AADR</th>\n",
       "    </tr>\n",
       "  </thead>\n",
       "  <tbody>\n",
       "    <tr>\n",
       "      <th>0</th>\n",
       "      <td>2015</td>\n",
       "      <td>Accidents (unintentional injuries) (V01-X59,Y8...</td>\n",
       "      <td>Unintentional Injuries</td>\n",
       "      <td>Alabama</td>\n",
       "      <td>2552.0</td>\n",
       "      <td>50.9</td>\n",
       "    </tr>\n",
       "    <tr>\n",
       "      <th>1</th>\n",
       "      <td>2015</td>\n",
       "      <td>Accidents (unintentional injuries) (V01-X59,Y8...</td>\n",
       "      <td>Unintentional Injuries</td>\n",
       "      <td>Alaska</td>\n",
       "      <td>388.0</td>\n",
       "      <td>57.9</td>\n",
       "    </tr>\n",
       "    <tr>\n",
       "      <th>2</th>\n",
       "      <td>2015</td>\n",
       "      <td>Accidents (unintentional injuries) (V01-X59,Y8...</td>\n",
       "      <td>Unintentional Injuries</td>\n",
       "      <td>Arizona</td>\n",
       "      <td>3539.0</td>\n",
       "      <td>49.2</td>\n",
       "    </tr>\n",
       "    <tr>\n",
       "      <th>3</th>\n",
       "      <td>2015</td>\n",
       "      <td>Accidents (unintentional injuries) (V01-X59,Y8...</td>\n",
       "      <td>Unintentional Injuries</td>\n",
       "      <td>Arkansas</td>\n",
       "      <td>1538.0</td>\n",
       "      <td>49.6</td>\n",
       "    </tr>\n",
       "    <tr>\n",
       "      <th>4</th>\n",
       "      <td>2015</td>\n",
       "      <td>Accidents (unintentional injuries) (V01-X59,Y8...</td>\n",
       "      <td>Unintentional Injuries</td>\n",
       "      <td>California</td>\n",
       "      <td>12544.0</td>\n",
       "      <td>30.6</td>\n",
       "    </tr>\n",
       "  </tbody>\n",
       "</table>\n",
       "</div>"
      ],
      "text/plain": [
       "   Year                                      CauseNameCode  \\\n",
       "0  2015  Accidents (unintentional injuries) (V01-X59,Y8...   \n",
       "1  2015  Accidents (unintentional injuries) (V01-X59,Y8...   \n",
       "2  2015  Accidents (unintentional injuries) (V01-X59,Y8...   \n",
       "3  2015  Accidents (unintentional injuries) (V01-X59,Y8...   \n",
       "4  2015  Accidents (unintentional injuries) (V01-X59,Y8...   \n",
       "\n",
       "                CauseName       State   Deaths  AADR  \n",
       "0  Unintentional Injuries     Alabama   2552.0  50.9  \n",
       "1  Unintentional Injuries      Alaska    388.0  57.9  \n",
       "2  Unintentional Injuries     Arizona   3539.0  49.2  \n",
       "3  Unintentional Injuries    Arkansas   1538.0  49.6  \n",
       "4  Unintentional Injuries  California  12544.0  30.6  "
      ]
     },
     "execution_count": 73,
     "metadata": {},
     "output_type": "execute_result"
    }
   ],
   "source": [
    "StateDeaths.head()"
   ]
  },
  {
   "cell_type": "code",
   "execution_count": 75,
   "metadata": {
    "collapsed": true
   },
   "outputs": [],
   "source": [
    "StateDeaths.to_csv(\"StateDeathsClean.csv\", index=False)\n",
    "CountyDeaths_2016.to_csv(\"CountyDeathsClean.csv\", index=False)"
   ]
  },
  {
   "cell_type": "code",
   "execution_count": 3,
   "metadata": {},
   "outputs": [],
   "source": [
    "special = pd.DataFrame(pd.read_csv(\"Specialists.csv\"))"
   ]
  },
  {
   "cell_type": "code",
   "execution_count": null,
   "metadata": {
    "collapsed": true
   },
   "outputs": [],
   "source": []
  }
 ],
 "metadata": {
  "kernelspec": {
   "display_name": "Python 3",
   "language": "python",
   "name": "python3"
  },
  "language_info": {
   "codemirror_mode": {
    "name": "ipython",
    "version": 3
   },
   "file_extension": ".py",
   "mimetype": "text/x-python",
   "name": "python",
   "nbconvert_exporter": "python",
   "pygments_lexer": "ipython3",
   "version": "3.6.1"
  }
 },
 "nbformat": 4,
 "nbformat_minor": 2
}
