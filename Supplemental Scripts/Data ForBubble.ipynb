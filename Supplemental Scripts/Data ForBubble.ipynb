{
 "cells": [
  {
   "cell_type": "code",
   "execution_count": 1,
   "metadata": {
    "collapsed": true
   },
   "outputs": [],
   "source": [
    "import pandas as pd"
   ]
  },
  {
   "cell_type": "code",
   "execution_count": 2,
   "metadata": {
    "collapsed": true
   },
   "outputs": [],
   "source": [
    "StatePop = pd.DataFrame(pd.read_csv(\"population.csv\"))\n",
    "StateDeath = pd.DataFrame(pd.read_csv(\"StateDeathsClean.csv\"))"
   ]
  },
  {
   "cell_type": "code",
   "execution_count": 5,
   "metadata": {},
   "outputs": [],
   "source": [
    "StateDeath = StateDeath.loc[(StateDeath[\"CauseName\"] == \"All Causes\")]"
   ]
  },
  {
   "cell_type": "code",
   "execution_count": 6,
   "metadata": {},
   "outputs": [
    {
     "data": {
      "text/plain": [
       "Index(['Year', 'CauseNameCode', 'CauseName', 'State', 'Deaths', 'AADR'], dtype='object')"
      ]
     },
     "execution_count": 6,
     "metadata": {},
     "output_type": "execute_result"
    }
   ],
   "source": [
    "StateDeath.columns"
   ]
  },
  {
   "cell_type": "code",
   "execution_count": 4,
   "metadata": {},
   "outputs": [
    {
     "data": {
      "text/plain": [
       "Index(['Rank', 'State', '2018 Population', '2018 Growth', '% of US'], dtype='object')"
      ]
     },
     "execution_count": 4,
     "metadata": {},
     "output_type": "execute_result"
    }
   ],
   "source": [
    "StatePop.columns"
   ]
  },
  {
   "cell_type": "code",
   "execution_count": 7,
   "metadata": {
    "collapsed": true
   },
   "outputs": [],
   "source": [
    "Bubble_df = pd.merge(StateDeath, StatePop, how='inner', on=\"State\")"
   ]
  },
  {
   "cell_type": "code",
   "execution_count": 9,
   "metadata": {},
   "outputs": [
    {
     "data": {
      "text/html": [
       "<div>\n",
       "<style>\n",
       "    .dataframe thead tr:only-child th {\n",
       "        text-align: right;\n",
       "    }\n",
       "\n",
       "    .dataframe thead th {\n",
       "        text-align: left;\n",
       "    }\n",
       "\n",
       "    .dataframe tbody tr th {\n",
       "        vertical-align: top;\n",
       "    }\n",
       "</style>\n",
       "<table border=\"1\" class=\"dataframe\">\n",
       "  <thead>\n",
       "    <tr style=\"text-align: right;\">\n",
       "      <th></th>\n",
       "      <th>Year</th>\n",
       "      <th>CauseNameCode</th>\n",
       "      <th>CauseName</th>\n",
       "      <th>State</th>\n",
       "      <th>Deaths</th>\n",
       "      <th>AADR</th>\n",
       "      <th>Rank</th>\n",
       "      <th>2018 Population</th>\n",
       "      <th>2018 Growth</th>\n",
       "      <th>% of US</th>\n",
       "    </tr>\n",
       "  </thead>\n",
       "  <tbody>\n",
       "    <tr>\n",
       "      <th>0</th>\n",
       "      <td>2015</td>\n",
       "      <td>All Causes</td>\n",
       "      <td>All Causes</td>\n",
       "      <td>Alabama</td>\n",
       "      <td>51909.0</td>\n",
       "      <td>924.5</td>\n",
       "      <td>24</td>\n",
       "      <td>4888949</td>\n",
       "      <td>0.002913</td>\n",
       "      <td>0.014904</td>\n",
       "    </tr>\n",
       "    <tr>\n",
       "      <th>1</th>\n",
       "      <td>2015</td>\n",
       "      <td>All Causes</td>\n",
       "      <td>All Causes</td>\n",
       "      <td>Alaska</td>\n",
       "      <td>4316.0</td>\n",
       "      <td>747.4</td>\n",
       "      <td>48</td>\n",
       "      <td>738068</td>\n",
       "      <td>-0.002334</td>\n",
       "      <td>0.002250</td>\n",
       "    </tr>\n",
       "    <tr>\n",
       "      <th>2</th>\n",
       "      <td>2015</td>\n",
       "      <td>All Causes</td>\n",
       "      <td>All Causes</td>\n",
       "      <td>Arizona</td>\n",
       "      <td>54299.0</td>\n",
       "      <td>671.8</td>\n",
       "      <td>14</td>\n",
       "      <td>7123898</td>\n",
       "      <td>0.015340</td>\n",
       "      <td>0.021717</td>\n",
       "    </tr>\n",
       "    <tr>\n",
       "      <th>3</th>\n",
       "      <td>2015</td>\n",
       "      <td>All Causes</td>\n",
       "      <td>All Causes</td>\n",
       "      <td>Arkansas</td>\n",
       "      <td>31617.0</td>\n",
       "      <td>901.8</td>\n",
       "      <td>33</td>\n",
       "      <td>3020327</td>\n",
       "      <td>0.005342</td>\n",
       "      <td>0.009207</td>\n",
       "    </tr>\n",
       "    <tr>\n",
       "      <th>4</th>\n",
       "      <td>2015</td>\n",
       "      <td>All Causes</td>\n",
       "      <td>All Causes</td>\n",
       "      <td>California</td>\n",
       "      <td>259206.0</td>\n",
       "      <td>621.6</td>\n",
       "      <td>1</td>\n",
       "      <td>39776830</td>\n",
       "      <td>0.006075</td>\n",
       "      <td>0.121259</td>\n",
       "    </tr>\n",
       "  </tbody>\n",
       "</table>\n",
       "</div>"
      ],
      "text/plain": [
       "   Year CauseNameCode   CauseName       State    Deaths   AADR  Rank  \\\n",
       "0  2015    All Causes  All Causes     Alabama   51909.0  924.5    24   \n",
       "1  2015    All Causes  All Causes      Alaska    4316.0  747.4    48   \n",
       "2  2015    All Causes  All Causes     Arizona   54299.0  671.8    14   \n",
       "3  2015    All Causes  All Causes    Arkansas   31617.0  901.8    33   \n",
       "4  2015    All Causes  All Causes  California  259206.0  621.6     1   \n",
       "\n",
       "   2018 Population  2018 Growth   % of US  \n",
       "0          4888949     0.002913  0.014904  \n",
       "1           738068    -0.002334  0.002250  \n",
       "2          7123898     0.015340  0.021717  \n",
       "3          3020327     0.005342  0.009207  \n",
       "4         39776830     0.006075  0.121259  "
      ]
     },
     "execution_count": 9,
     "metadata": {},
     "output_type": "execute_result"
    }
   ],
   "source": [
    "Bubble_df.head()"
   ]
  },
  {
   "cell_type": "code",
   "execution_count": 11,
   "metadata": {},
   "outputs": [
    {
     "data": {
      "text/html": [
       "<div>\n",
       "<style>\n",
       "    .dataframe thead tr:only-child th {\n",
       "        text-align: right;\n",
       "    }\n",
       "\n",
       "    .dataframe thead th {\n",
       "        text-align: left;\n",
       "    }\n",
       "\n",
       "    .dataframe tbody tr th {\n",
       "        vertical-align: top;\n",
       "    }\n",
       "</style>\n",
       "<table border=\"1\" class=\"dataframe\">\n",
       "  <thead>\n",
       "    <tr style=\"text-align: right;\">\n",
       "      <th></th>\n",
       "      <th>CauseName</th>\n",
       "      <th>State</th>\n",
       "      <th>Deaths</th>\n",
       "      <th>AADR</th>\n",
       "      <th>2018 Population</th>\n",
       "    </tr>\n",
       "  </thead>\n",
       "  <tbody>\n",
       "    <tr>\n",
       "      <th>0</th>\n",
       "      <td>All Causes</td>\n",
       "      <td>Alabama</td>\n",
       "      <td>51909.0</td>\n",
       "      <td>924.5</td>\n",
       "      <td>4888949</td>\n",
       "    </tr>\n",
       "    <tr>\n",
       "      <th>1</th>\n",
       "      <td>All Causes</td>\n",
       "      <td>Alaska</td>\n",
       "      <td>4316.0</td>\n",
       "      <td>747.4</td>\n",
       "      <td>738068</td>\n",
       "    </tr>\n",
       "    <tr>\n",
       "      <th>2</th>\n",
       "      <td>All Causes</td>\n",
       "      <td>Arizona</td>\n",
       "      <td>54299.0</td>\n",
       "      <td>671.8</td>\n",
       "      <td>7123898</td>\n",
       "    </tr>\n",
       "    <tr>\n",
       "      <th>3</th>\n",
       "      <td>All Causes</td>\n",
       "      <td>Arkansas</td>\n",
       "      <td>31617.0</td>\n",
       "      <td>901.8</td>\n",
       "      <td>3020327</td>\n",
       "    </tr>\n",
       "    <tr>\n",
       "      <th>4</th>\n",
       "      <td>All Causes</td>\n",
       "      <td>California</td>\n",
       "      <td>259206.0</td>\n",
       "      <td>621.6</td>\n",
       "      <td>39776830</td>\n",
       "    </tr>\n",
       "  </tbody>\n",
       "</table>\n",
       "</div>"
      ],
      "text/plain": [
       "    CauseName       State    Deaths   AADR  2018 Population\n",
       "0  All Causes     Alabama   51909.0  924.5          4888949\n",
       "1  All Causes      Alaska    4316.0  747.4           738068\n",
       "2  All Causes     Arizona   54299.0  671.8          7123898\n",
       "3  All Causes    Arkansas   31617.0  901.8          3020327\n",
       "4  All Causes  California  259206.0  621.6         39776830"
      ]
     },
     "execution_count": 11,
     "metadata": {},
     "output_type": "execute_result"
    }
   ],
   "source": [
    "Bubble_df = Bubble_df.drop([\"CauseNameCode\",\"Year\",\"Rank\",\"2018 Growth\",\"% of US\"], axis=1)\n",
    "Bubble_df.head()"
   ]
  },
  {
   "cell_type": "code",
   "execution_count": 12,
   "metadata": {
    "collapsed": true
   },
   "outputs": [],
   "source": [
    "Bubble_df = Bubble_df.rename(columns={\"2018 Population\":\"Population\"})"
   ]
  },
  {
   "cell_type": "code",
   "execution_count": 13,
   "metadata": {},
   "outputs": [
    {
     "data": {
      "text/html": [
       "<div>\n",
       "<style>\n",
       "    .dataframe thead tr:only-child th {\n",
       "        text-align: right;\n",
       "    }\n",
       "\n",
       "    .dataframe thead th {\n",
       "        text-align: left;\n",
       "    }\n",
       "\n",
       "    .dataframe tbody tr th {\n",
       "        vertical-align: top;\n",
       "    }\n",
       "</style>\n",
       "<table border=\"1\" class=\"dataframe\">\n",
       "  <thead>\n",
       "    <tr style=\"text-align: right;\">\n",
       "      <th></th>\n",
       "      <th>CauseName</th>\n",
       "      <th>State</th>\n",
       "      <th>Deaths</th>\n",
       "      <th>AADR</th>\n",
       "      <th>Population</th>\n",
       "    </tr>\n",
       "  </thead>\n",
       "  <tbody>\n",
       "    <tr>\n",
       "      <th>0</th>\n",
       "      <td>All Causes</td>\n",
       "      <td>Alabama</td>\n",
       "      <td>51909.0</td>\n",
       "      <td>924.5</td>\n",
       "      <td>4888949</td>\n",
       "    </tr>\n",
       "    <tr>\n",
       "      <th>1</th>\n",
       "      <td>All Causes</td>\n",
       "      <td>Alaska</td>\n",
       "      <td>4316.0</td>\n",
       "      <td>747.4</td>\n",
       "      <td>738068</td>\n",
       "    </tr>\n",
       "    <tr>\n",
       "      <th>2</th>\n",
       "      <td>All Causes</td>\n",
       "      <td>Arizona</td>\n",
       "      <td>54299.0</td>\n",
       "      <td>671.8</td>\n",
       "      <td>7123898</td>\n",
       "    </tr>\n",
       "    <tr>\n",
       "      <th>3</th>\n",
       "      <td>All Causes</td>\n",
       "      <td>Arkansas</td>\n",
       "      <td>31617.0</td>\n",
       "      <td>901.8</td>\n",
       "      <td>3020327</td>\n",
       "    </tr>\n",
       "    <tr>\n",
       "      <th>4</th>\n",
       "      <td>All Causes</td>\n",
       "      <td>California</td>\n",
       "      <td>259206.0</td>\n",
       "      <td>621.6</td>\n",
       "      <td>39776830</td>\n",
       "    </tr>\n",
       "  </tbody>\n",
       "</table>\n",
       "</div>"
      ],
      "text/plain": [
       "    CauseName       State    Deaths   AADR  Population\n",
       "0  All Causes     Alabama   51909.0  924.5     4888949\n",
       "1  All Causes      Alaska    4316.0  747.4      738068\n",
       "2  All Causes     Arizona   54299.0  671.8     7123898\n",
       "3  All Causes    Arkansas   31617.0  901.8     3020327\n",
       "4  All Causes  California  259206.0  621.6    39776830"
      ]
     },
     "execution_count": 13,
     "metadata": {},
     "output_type": "execute_result"
    }
   ],
   "source": [
    "Bubble_df.head()"
   ]
  },
  {
   "cell_type": "code",
   "execution_count": 14,
   "metadata": {
    "collapsed": true
   },
   "outputs": [],
   "source": [
    "Bubble_df.to_csv(\"BubbleData.csv\")"
   ]
  },
  {
   "cell_type": "code",
   "execution_count": null,
   "metadata": {
    "collapsed": true
   },
   "outputs": [],
   "source": []
  }
 ],
 "metadata": {
  "kernelspec": {
   "display_name": "Python 3",
   "language": "python",
   "name": "python3"
  },
  "language_info": {
   "codemirror_mode": {
    "name": "ipython",
    "version": 3
   },
   "file_extension": ".py",
   "mimetype": "text/x-python",
   "name": "python",
   "nbconvert_exporter": "python",
   "pygments_lexer": "ipython3",
   "version": "3.6.1"
  }
 },
 "nbformat": 4,
 "nbformat_minor": 2
}
